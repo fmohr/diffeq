{
 "cells": [
  {
   "cell_type": "markdown",
   "metadata": {},
   "source": [
    "# Example not unique solution\n",
    "Considerer the linear system\n",
    "$$ \\dfrac{dx_1}{dt}=x_1+x_2$$\n",
    "$$ \\dfrac{dx_2}{dt}=t$$\n",
    "with $x_1(0)=0$ and $x_2(0)=-1$."
   ]
  },
  {
   "cell_type": "markdown",
   "metadata": {},
   "source": [
    "# Explicit solution\n",
    "$$x_1(t)=-\\dfrac{t^2}{2}-t-1$$\n",
    "$$x_2(t)=\\dfrac{t^2}{2}$$"
   ]
  },
  {
   "cell_type": "code",
   "execution_count": 1,
   "metadata": {},
   "outputs": [],
   "source": [
    "import numpy as np\n",
    "from autode.evaluation import *\n",
    "from autode.datagenerators import *\n",
    "from autode.optimizers import *"
   ]
  },
  {
   "cell_type": "code",
   "execution_count": 2,
   "metadata": {},
   "outputs": [],
   "source": [
    "gen = NotUniqueDataGenerator()\n",
    "t = np.linspace(0,10,100)\n",
    "obs = gen.generate_orig(t)"
   ]
  },
  {
   "cell_type": "code",
   "execution_count": 3,
   "metadata": {},
   "outputs": [],
   "source": [
    "evaluator = ODEINTEvaluator(t, obs)"
   ]
  },
  {
   "cell_type": "code",
   "execution_count": 4,
   "metadata": {},
   "outputs": [
    {
     "name": "stdout",
     "output_type": "stream",
     "text": [
      "Found new best model with score 1820.896475022208\n",
      "Found new best model with score 1820.8964649452175\n",
      "Found new best model with score 599.4617331687673\n",
      "Found new best model with score 2.1128721734877081e-16\n",
      "Final Error: 2.1128721734877081e-16\n"
     ]
    }
   ],
   "source": [
    "print(\"Final Error:\", evaluator.evaluate([lambda x1, x2, t, a, b: a * x1 + b * x2 , lambda x1, x2, t, c: c * t],attempts_per_exponent=1000))"
   ]
  },
  {
   "cell_type": "code",
   "execution_count": 5,
   "metadata": {},
   "outputs": [
    {
     "name": "stdout",
     "output_type": "stream",
     "text": [
      "Wall time: 0 ns\n"
     ]
    },
    {
     "data": {
      "text/html": [
       "<table><tr><th> name </th><th> value </th><th> standard error </th><th> relative error </th><th> initial value </th><th> min </th><th> max </th><th> vary </th></tr><tr><td> a </td><td>  1.00000000 </td><td>  3.4163e-12 </td><td> (0.00%) </td><td> 0.9980625429633214 </td><td> -1.00000000 </td><td>  1.00000000 </td><td> True </td></tr><tr><td> b </td><td>  1.00000000 </td><td>  1.0973e-11 </td><td> (0.00%) </td><td> -0.7640406587399788 </td><td> -1.00000000 </td><td>  1.00000000 </td><td> True </td></tr><tr><td> c </td><td>  1.00000000 </td><td>  4.5954e-12 </td><td> (0.00%) </td><td> 0.081264449828363 </td><td> -1.00000000 </td><td>  1.00000000 </td><td> True </td></tr></table>"
      ],
      "text/plain": [
       "Parameters([('a',\n",
       "             <Parameter 'a', value=0.9999999999791767 +/- 3.42e-12, bounds=[-1:1]>),\n",
       "            ('b',\n",
       "             <Parameter 'b', value=0.9999999999554363 +/- 1.1e-11, bounds=[-1:1]>),\n",
       "            ('c',\n",
       "             <Parameter 'c', value=0.9999999999817506 +/- 4.6e-12, bounds=[-1:1]>)])"
      ]
     },
     "execution_count": 5,
     "metadata": {},
     "output_type": "execute_result"
    }
   ],
   "source": [
    "%%time\n",
    "evaluator.params_for_last_model"
   ]
  },
  {
   "cell_type": "markdown",
   "metadata": {},
   "source": [
    "The system is equivalent to:\n",
    "$$ \\dfrac{dx_1}{dt}=-t-1$$\n",
    "$$ \\dfrac{dx_2}{dt}=t$$\n",
    "with $x_1(0)=0$ and $x_2(0)=-1$."
   ]
  },
  {
   "cell_type": "code",
   "execution_count": 6,
   "metadata": {},
   "outputs": [
    {
     "name": "stdout",
     "output_type": "stream",
     "text": [
      "Found new best model with score 2.8913502430032203e-22\n",
      "Final Error: 2.8913502430032203e-22\n"
     ]
    }
   ],
   "source": [
    "print(\"Final Error:\", evaluator.evaluate([lambda x1, x2, t, a, b: a * t + b , lambda x1, x2, t, c: c * t],attempts_per_exponent=1000))"
   ]
  },
  {
   "cell_type": "code",
   "execution_count": 7,
   "metadata": {},
   "outputs": [
    {
     "name": "stdout",
     "output_type": "stream",
     "text": [
      "Wall time: 0 ns\n"
     ]
    },
    {
     "data": {
      "text/html": [
       "<table><tr><th> name </th><th> value </th><th> standard error </th><th> relative error </th><th> initial value </th><th> min </th><th> max </th><th> vary </th></tr><tr><td> a </td><td> -1.00000000 </td><td>  1.5582e-14 </td><td> (0.00%) </td><td> -0.41888405092596614 </td><td> -1.00000000 </td><td>  1.00000000 </td><td> True </td></tr><tr><td> b </td><td> -1.00000000 </td><td>  5.7913e-14 </td><td> (0.00%) </td><td> 0.08828140287600839 </td><td> -1.00000000 </td><td>  1.00000000 </td><td> True </td></tr><tr><td> c </td><td>  1.00000000 </td><td>  7.7591e-15 </td><td> (0.00%) </td><td> 0.06693432376975261 </td><td> -1.00000000 </td><td>  1.00000000 </td><td> True </td></tr></table>"
      ],
      "text/plain": [
       "Parameters([('a',\n",
       "             <Parameter 'a', value=-0.9999999999998405 +/- 1.56e-14, bounds=[-1:1]>),\n",
       "            ('b',\n",
       "             <Parameter 'b', value=-0.9999999999999581 +/- 5.79e-14, bounds=[-1:1]>),\n",
       "            ('c',\n",
       "             <Parameter 'c', value=0.9999999999999933 +/- 7.76e-15, bounds=[-1:1]>)])"
      ]
     },
     "execution_count": 7,
     "metadata": {},
     "output_type": "execute_result"
    }
   ],
   "source": [
    "%%time\n",
    "evaluator.params_for_last_model"
   ]
  },
  {
   "cell_type": "markdown",
   "metadata": {},
   "source": [
    "The system is equivalent to:\n",
    "$$ \\dfrac{dx_1}{dt}=x_1+\\dfrac{t^2}{2}$$\n",
    "$$ \\dfrac{dx_2}{dt}=t$$\n",
    "with $x_1(0)=0$ and $x_2(0)=-1$."
   ]
  },
  {
   "cell_type": "code",
   "execution_count": 18,
   "metadata": {},
   "outputs": [
    {
     "name": "stdout",
     "output_type": "stream",
     "text": [
      "Found new best model with score 1208.1460217118354\n",
      "Found new best model with score 3.7262565091510536\n",
      "Found new best model with score 6.174729520811305e-11\n",
      "Final Error: 6.174729520811305e-11\n"
     ]
    }
   ],
   "source": [
    "print(\"Final Error:\", evaluator.evaluate([lambda x1, x2, t, a, b: a * x1 + b * (t**2) , lambda x1, x2, t, c: c * t],attempts_per_exponent=1000))"
   ]
  },
  {
   "cell_type": "code",
   "execution_count": 19,
   "metadata": {},
   "outputs": [
    {
     "name": "stdout",
     "output_type": "stream",
     "text": [
      "Wall time: 0 ns\n"
     ]
    },
    {
     "data": {
      "text/html": [
       "<table><tr><th> name </th><th> value </th><th> standard error </th><th> relative error </th><th> initial value </th><th> min </th><th> max </th><th> vary </th></tr><tr><td> a </td><td>  0.99999997 </td><td>  1.0107e-09 </td><td> (0.00%) </td><td> 0.9385487031545021 </td><td> -1.00000000 </td><td>  1.00000000 </td><td> True </td></tr><tr><td> b </td><td>  0.49999996 </td><td>  1.5370e-09 </td><td> (0.00%) </td><td> 0.5340119091522979 </td><td> -1.00000000 </td><td>  1.00000000 </td><td> True </td></tr><tr><td> c </td><td>  1.00000000 </td><td>  2.4828e-09 </td><td> (0.00%) </td><td> -0.8345469094914519 </td><td> -1.00000000 </td><td>  1.00000000 </td><td> True </td></tr></table>"
      ],
      "text/plain": [
       "Parameters([('a',\n",
       "             <Parameter 'a', value=0.9999999738076664 +/- 1.01e-09, bounds=[-1:1]>),\n",
       "            ('b',\n",
       "             <Parameter 'b', value=0.49999996084702003 +/- 1.54e-09, bounds=[-1:1]>),\n",
       "            ('c',\n",
       "             <Parameter 'c', value=0.9999999999351055 +/- 2.48e-09, bounds=[-1:1]>)])"
      ]
     },
     "execution_count": 19,
     "metadata": {},
     "output_type": "execute_result"
    }
   ],
   "source": [
    "%%time\n",
    "evaluator.params_for_last_model"
   ]
  }
 ],
 "metadata": {
  "kernelspec": {
   "display_name": "Python 3",
   "language": "python",
   "name": "python3"
  },
  "language_info": {
   "codemirror_mode": {
    "name": "ipython",
    "version": 3
   },
   "file_extension": ".py",
   "mimetype": "text/x-python",
   "name": "python",
   "nbconvert_exporter": "python",
   "pygments_lexer": "ipython3",
   "version": "3.8.5"
  }
 },
 "nbformat": 4,
 "nbformat_minor": 4
}
