{
 "cells": [
  {
   "cell_type": "code",
   "execution_count": null,
   "metadata": {
    "scrolled": true
   },
   "outputs": [],
   "source": [
    "import random\n",
    "\n",
    "def get_first_non_terminal(s):\n",
    "    if not \"<\" in s:\n",
    "        return None\n",
    "    start = s.index(\"<\")\n",
    "    end = s.index(\">\")\n",
    "    return s[start : end + 1]\n",
    "\n",
    "def get_step1_replacements(s, g):\n",
    "    nt = get_first_non_terminal(s)\n",
    "    return [s.replace(nt, c, 1) for c in g[nt]]\n",
    "\n",
    "def get_all_replacements(s, g):\n",
    "    \n",
    "    def collect(s, g, F):\n",
    "        nt = get_first_non_terminal(s)\n",
    "        if nt is None:\n",
    "            F.append(s)\n",
    "            return\n",
    "        for si in get_step1_replacements(s, g):\n",
    "            collect(si, g, F)\n",
    "    \n",
    "    F = []\n",
    "    collect(s, g, F)\n",
    "    return F\n",
    "\n",
    "\n",
    "def get_random_replacement(s, g):\n",
    "    \n",
    "    nt = get_first_non_terminal(s)\n",
    "    while nt is not None:\n",
    "        s = random.sample(get_step1_replacements(s, g), 1)[0]\n",
    "        nt = get_first_non_terminal(s)\n",
    "    return s"
   ]
  },
  {
   "cell_type": "code",
   "execution_count": null,
   "metadata": {
    "scrolled": true
   },
   "outputs": [],
   "source": [
    "g_general = {\n",
    "    \"<const>\": [\"c1\", \"c2\", \"c3\"],\n",
    "    \"<src>\": [\"f1\", \"f2\", \"f3\"],\n",
    "    \"<fun>\": [\n",
    "        \"<const>\",\n",
    "        \"<src>\",\n",
    "        \"<fun> + <fun>\",\n",
    "        \"<fun> - <fun>\",\n",
    "        \"<fun> * <fun>\",\n",
    "        \"<fun> / <fun>\",\n",
    "        \"log(<fun>)\",\n",
    "        \"exp(<fun>)\"\n",
    "    ]\n",
    "}\n",
    "\n",
    "get_step1_replacements(\"hello <fun> my friend.\", g_general)\n",
    "\n",
    "#get_all_replacements(\"hello. <fun>\", grammar)\n",
    "\n",
    "print(\"Random Replacements:\")\n",
    "for i in range(10):\n",
    "    print(i, get_random_replacement(\"<fun>\", g_general))"
   ]
  },
  {
   "cell_type": "code",
   "execution_count": null,
   "metadata": {
    "scrolled": true
   },
   "outputs": [],
   "source": [
    "g_limited = {\n",
    "    \"<const>\": [\"c1\", \"c2\"],\n",
    "    \"<src>\": [\"f1\", \"f2\"],\n",
    "    \"<lin>\": [\n",
    "        \"<atomiclin>\",\n",
    "        \"<const> * (<atomiclin>)\", # redundant but maybe helpful\n",
    "    ],\n",
    "    \"<atom>\": [\n",
    "        \"<const>\",\n",
    "        \"<src>\",\n",
    "        \"t\"\n",
    "    ],\n",
    "    \"<literal>\": [\"<atom>\", \"-<atom>\"],\n",
    "    \"<atomiclin>\": [\n",
    "        \"<literal>\",\n",
    "        \"<const> * <src>\",\n",
    "        \"<const> * t\",\n",
    "        \"<const> * <src> + <const>\",\n",
    "        \"<literal> + <literal>\"\n",
    "    ],\n",
    "    \"<fun>\": [\n",
    "        \"<lin>\",\n",
    "        \"(<lin> + <lin>)\",\n",
    "        \"(<lin> - <lin>)\",\n",
    "        \"<lin> * <lin>\",\n",
    "        \"(<lin>) / (<lin>)\",\n",
    "        \"log(<lin>)\",\n",
    "        \"exp(<lin>)\"\n",
    "    ]\n",
    "}\n",
    "\n",
    "L = get_all_replacements(\"<fun>\", g_limited)\n",
    "print(\"All \" + str(len(L)) + \" Replacements:\")\n",
    "for r in L:\n",
    "    print(\"\\t\", r)\n",
    "\n",
    "print(\"Random Replacements:\")\n",
    "for i in range(10):\n",
    "    print(get_random_replacement(\"hello. <fun>\", g_limited))"
   ]
  },
  {
   "cell_type": "code",
   "execution_count": null,
   "metadata": {},
   "outputs": [],
   "source": []
  }
 ],
 "metadata": {
  "kernelspec": {
   "display_name": "Python 3",
   "language": "python",
   "name": "python3"
  },
  "language_info": {
   "codemirror_mode": {
    "name": "ipython",
    "version": 3
   },
   "file_extension": ".py",
   "mimetype": "text/x-python",
   "name": "python",
   "nbconvert_exporter": "python",
   "pygments_lexer": "ipython3",
   "version": "3.7.7"
  }
 },
 "nbformat": 4,
 "nbformat_minor": 4
}
