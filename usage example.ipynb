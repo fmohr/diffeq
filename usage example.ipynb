{
 "cells": [
  {
   "cell_type": "code",
   "execution_count": 1,
   "metadata": {
    "scrolled": true
   },
   "outputs": [],
   "source": [
    "import numpy as np\n",
    "from autode.evaluation import *\n",
    "from autode.datagenerators import *\n",
    "from autode.optimizers import *"
   ]
  },
  {
   "cell_type": "markdown",
   "metadata": {},
   "source": [
    "# Run Example Evaluation"
   ]
  },
  {
   "cell_type": "markdown",
   "metadata": {},
   "source": [
    "## Define $t$ and Generate Observations"
   ]
  },
  {
   "cell_type": "code",
   "execution_count": 2,
   "metadata": {
    "scrolled": true
   },
   "outputs": [
    {
     "data": {
      "text/plain": [
       "array([[25.        ,  0.        ],\n",
       "       [16.8834666 ,  6.88825478],\n",
       "       [11.87653833,  9.30380954],\n",
       "       [ 8.66155566,  9.55556714],\n",
       "       [ 6.50769526,  8.839764  ],\n",
       "       [ 5.00380371,  7.76290089],\n",
       "       [ 3.91399052,  6.62128609],\n",
       "       [ 3.09936019,  5.55003304],\n",
       "       [ 2.4754182 ,  4.60211919],\n",
       "       [ 1.98875132,  3.79004147],\n",
       "       [ 1.60414837,  3.10752257],\n",
       "       [ 1.29739749,  2.54062145],\n",
       "       [ 1.05118717,  2.07325207],\n",
       "       [ 0.85271822,  1.68978109],\n",
       "       [ 0.69227001,  1.37612412],\n",
       "       [ 0.56230764,  1.12009111],\n",
       "       [ 0.45690282,  0.91137357],\n",
       "       [ 0.37134187,  0.74137633],\n",
       "       [ 0.30184941,  0.602996  ],\n",
       "       [ 0.24538648,  0.49039514],\n",
       "       [ 0.19949865,  0.39879419],\n",
       "       [ 0.16219912,  0.32428905],\n",
       "       [ 0.1318772 ,  0.2636957 ],\n",
       "       [ 0.10722581,  0.21442006],\n",
       "       [ 0.08718354,  0.17435011],\n",
       "       [ 0.07088809,  0.14176706],\n",
       "       [ 0.05763874,  0.11527258],\n",
       "       [ 0.04686594,  0.09372924],\n",
       "       [ 0.03810669,  0.07621196],\n",
       "       [ 0.03098459,  0.06196842]])"
      ]
     },
     "execution_count": 2,
     "metadata": {},
     "output_type": "execute_result"
    }
   ],
   "source": [
    "gen = TankDataGenerator()\n",
    "t = np.linspace(0,150,30)\n",
    "obs = gen.generate_orig(t)\n",
    "obs"
   ]
  },
  {
   "cell_type": "markdown",
   "metadata": {},
   "source": [
    "## Create Evaluator Aware of the Data"
   ]
  },
  {
   "cell_type": "code",
   "execution_count": 3,
   "metadata": {},
   "outputs": [],
   "source": [
    "evaluator = ODEINTEvaluator(t, obs)"
   ]
  },
  {
   "cell_type": "markdown",
   "metadata": {},
   "source": [
    "## Evaluate Models"
   ]
  },
  {
   "cell_type": "markdown",
   "metadata": {},
   "source": [
    "### Correct Model"
   ]
  },
  {
   "cell_type": "code",
   "execution_count": 4,
   "metadata": {},
   "outputs": [
    {
     "name": "stdout",
     "output_type": "stream",
     "text": [
      "Final Error: inf\n"
     ]
    }
   ],
   "source": [
    "print(\"Final Error:\", evaluator.evaluate(lambda Y, t, a, b: a*Y + b))"
   ]
  },
  {
   "cell_type": "code",
   "execution_count": 5,
   "metadata": {},
   "outputs": [
    {
     "name": "stdout",
     "output_type": "stream",
     "text": [
      "CPU times: user 2 µs, sys: 1e+03 ns, total: 3 µs\n",
      "Wall time: 4.77 µs\n"
     ]
    }
   ],
   "source": [
    "%%time\n",
    "evaluator.params_for_last_model"
   ]
  },
  {
   "cell_type": "markdown",
   "metadata": {},
   "source": [
    "### Wrong Models"
   ]
  },
  {
   "cell_type": "markdown",
   "metadata": {},
   "source": [
    "#### Quadratic Model"
   ]
  },
  {
   "cell_type": "code",
   "execution_count": 6,
   "metadata": {},
   "outputs": [
    {
     "name": "stdout",
     "output_type": "stream",
     "text": [
      "inf\n",
      "CPU times: user 1.03 s, sys: 210 µs, total: 1.03 s\n",
      "Wall time: 1.03 s\n"
     ]
    }
   ],
   "source": [
    "%%time\n",
    "print(evaluator.evaluate(lambda Y, t, a: Y**2 -4))"
   ]
  },
  {
   "cell_type": "markdown",
   "metadata": {},
   "source": [
    "#### Sine Model"
   ]
  },
  {
   "cell_type": "code",
   "execution_count": 7,
   "metadata": {},
   "outputs": [
    {
     "name": "stdout",
     "output_type": "stream",
     "text": [
      "inf\n",
      "CPU times: user 1.08 s, sys: 10.3 ms, total: 1.09 s\n",
      "Wall time: 1.06 s\n"
     ]
    }
   ],
   "source": [
    "%%time\n",
    "print(evaluator.evaluate(lambda Y, t, a: np.sin(Y**2) * a))"
   ]
  },
  {
   "cell_type": "markdown",
   "metadata": {},
   "source": [
    "## Find Best Model With Optimizer"
   ]
  },
  {
   "cell_type": "code",
   "execution_count": null,
   "metadata": {
    "scrolled": true
   },
   "outputs": [
    {
     "name": "stdout",
     "output_type": "stream",
     "text": [
      "Evaluating ('(a0 * t)', '(b0 * t)')\n",
      "Found new best model with score 5810.268040724117\n",
      "Found new best model with score 5810.268040724116\n",
      "Found new best model with score 5810.268040724115\n",
      "Evaluating ('(a0 * t)', '(b0 * x1)')\n",
      "Found new best model with score 5762.127136861057\n",
      "Found new best model with score 5762.127136858844\n",
      "Found new best model with score 5762.127136858254\n",
      "Found new best model with score 5762.127136858111\n",
      "Found new best model with score 5762.127136858076\n",
      "Evaluating ('(a0 * t)', '(b0 * x2)')\n",
      "Found new best model with score 5816.122555971765\n",
      "Found new best model with score 5816.122555971746\n",
      "Evaluating ('(a0 * t)', '(b0 * t) + (b1 * x1)')\n",
      "Found new best model with score 5674.937068378687\n",
      "Found new best model with score 5674.937068375025\n",
      "Found new best model with score 5674.937068374412\n",
      "Found new best model with score 5674.937068374343\n",
      "Evaluating ('(a0 * t)', '(b0 * t) + (b1 * x2)')\n",
      "Found new best model with score 5786.970873465163\n",
      "Found new best model with score 5786.970871656397\n"
     ]
    },
    {
     "name": "stderr",
     "output_type": "stream",
     "text": [
      "/home/felix/anaconda3/lib/python3.7/site-packages/scipy/integrate/odepack.py:247: ODEintWarning: Illegal input detected (internal error). Run with full_output = 1 to get quantitative information.\n",
      "  warnings.warn(warning_msg, ODEintWarning)\n"
     ]
    },
    {
     "name": "stdout",
     "output_type": "stream",
     "text": [
      "Found new best model with score 5785.861757114892\n",
      "Found new best model with score 5785.86171416898\n",
      "Found new best model with score 5785.861708019895\n",
      "Found new best model with score 5785.861683910762\n"
     ]
    },
    {
     "name": "stderr",
     "output_type": "stream",
     "text": [
      "/home/felix/anaconda3/lib/python3.7/site-packages/scipy/integrate/odepack.py:247: ODEintWarning: Excess work done on this call (perhaps wrong Dfun type). Run with full_output = 1 to get quantitative information.\n",
      "  warnings.warn(warning_msg, ODEintWarning)\n"
     ]
    },
    {
     "name": "stdout",
     "output_type": "stream",
     "text": [
      "Found new best model with score 5785.750735878877\n",
      "Found new best model with score 5785.750706180392\n",
      "Found new best model with score 5785.739385113008\n",
      "Found new best model with score 5785.739376262295\n",
      "Found new best model with score 5785.738484704848\n",
      "Found new best model with score 5785.738439958788\n",
      "Found new best model with score 5785.738438602475\n",
      "Found new best model with score 5785.738323700272\n",
      "Found new best model with score 5785.738163215135\n",
      "Found new best model with score 5785.738129091184\n"
     ]
    },
    {
     "name": "stderr",
     "output_type": "stream",
     "text": [
      "/home/felix/anaconda3/lib/python3.7/site-packages/scipy/integrate/odepack.py:247: ODEintWarning: Repeated convergence failures (perhaps bad Jacobian or tolerances). Run with full_output = 1 to get quantitative information.\n",
      "  warnings.warn(warning_msg, ODEintWarning)\n"
     ]
    },
    {
     "name": "stdout",
     "output_type": "stream",
     "text": [
      "Evaluating ('(a0 * t)', '(b0 * x1) + (b1 * t)')\n",
      "Found new best model with score 5674.937068374892\n",
      "Found new best model with score 5674.9370683745965\n",
      "Found new best model with score 5674.937068374468\n",
      "Found new best model with score 5674.937068374352\n",
      "Evaluating ('(a0 * t)', '(b0 * x1) + (b1 * x2)')\n",
      "Found new best model with score 4.740500389942141e+104\n",
      "Found new best model with score 1.8611178800573825e+57\n",
      "Found new best model with score 5429.5273511189125\n",
      "Found new best model with score 5429.5273484590425\n",
      "Found new best model with score 5429.5218709283645\n"
     ]
    }
   ],
   "source": [
    "%%time\n",
    "solver = NaiveOptimizer(2, 1, 2)\n",
    "counter = 0\n",
    "rows = []\n",
    "for cand in solver.get_all_models():\n",
    "    counter += 1\n",
    "    print(f\"Evaluating {cand}\")\n",
    "    score = evaluator.evaluate([get_func_from_str(cand[i], 2) for i in range(2)], attempts_per_exponent=10)\n",
    "    rows.append([cand[0], cand[1], score])\n",
    "counter"
   ]
  },
  {
   "cell_type": "code",
   "execution_count": null,
   "metadata": {},
   "outputs": [],
   "source": [
    "import pandas as pd\n",
    "df = pd.DataFrame(rows, columns=[\"$d x_1 / dt$\", \"$d x_2 / dt$\", \"error\"])\n",
    "df[\"error\"] = np.round(df[\"error\"], 2)\n",
    "df"
   ]
  },
  {
   "cell_type": "code",
   "execution_count": null,
   "metadata": {},
   "outputs": [],
   "source": [
    "df.sort_values(\"error\")"
   ]
  }
 ],
 "metadata": {
  "kernelspec": {
   "display_name": "Python 3",
   "language": "python",
   "name": "python3"
  },
  "language_info": {
   "codemirror_mode": {
    "name": "ipython",
    "version": 3
   },
   "file_extension": ".py",
   "mimetype": "text/x-python",
   "name": "python",
   "nbconvert_exporter": "python",
   "pygments_lexer": "ipython3",
   "version": "3.7.11"
  }
 },
 "nbformat": 4,
 "nbformat_minor": 4
}
