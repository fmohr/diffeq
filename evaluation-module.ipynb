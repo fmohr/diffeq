{
 "cells": [
  {
   "cell_type": "code",
   "execution_count": 1,
   "metadata": {},
   "outputs": [],
   "source": [
    "import numpy as np"
   ]
  },
  {
   "cell_type": "code",
   "execution_count": 6,
   "metadata": {},
   "outputs": [],
   "source": [
    "class ODEEvaluator:\n",
    "    \n",
    "    # stores the data in the object\n",
    "    def __init__(self, times, vals):\n",
    "        if len(times) != len(vals):\n",
    "            raise ValueError(\"List of timestamps and list of values should have same length!\")\n",
    "        self.times = times\n",
    "        self.vals = vals\n",
    "        \n",
    "    # evaluates a concrete model\n",
    "    def evaluate(self, model):\n",
    "        raise NotImplementedError(\"You created an evaluator that has the evalute method not implemented!\")"
   ]
  },
  {
   "cell_type": "code",
   "execution_count": 33,
   "metadata": {},
   "outputs": [],
   "source": [
    "# This is a CONCRETE evaluator (here just an example, but we need such sub-classes for concrete evaluation)\n",
    "from sympy import sympify\n",
    "class ExampleEvaluator(ODEEvaluator):\n",
    "    \n",
    "    def evaluate(self, model):\n",
    "        print(\"-----\\nEvaluating model\", model,\"\\n-----\")\n",
    "        print(\"I am now predending that the given data are the values of the *derivatives*\")\n",
    "        \n",
    "        # compute all *suppose* values under the model\n",
    "        error = 0\n",
    "        for i, t in enumerate(self.times):\n",
    "            expr = model.replace(\"x\", str(t))\n",
    "            value_by_model = float(sympify(expr))\n",
    "            error += (value_by_model - self.vals[i])**2\n",
    "        return np.round(error, 10)\n",
    "    \n",
    "    \n",
    "## TODO: Write now a real evaluator that makes sense in practice here: ##\n",
    "class OtherEvaluator(ODEEvaluator):\n",
    "    pass\n"
   ]
  },
  {
   "cell_type": "code",
   "execution_count": 32,
   "metadata": {},
   "outputs": [
    {
     "name": "stdout",
     "output_type": "stream",
     "text": [
      "-----\n",
      "Evaluating model x^2 + 2*x + 4 \n",
      "-----\n",
      "I am now predending that the given data are the values of the *derivatives*\n",
      "Error of x^2 + 2*x + 4: 5005.1336452003\n",
      "-----\n",
      "Evaluating model sin(x) \n",
      "-----\n",
      "I am now predending that the given data are the values of the *derivatives*\n",
      "Error of sin(x): 0.0\n",
      "-----\n",
      "Evaluating model ln(x) \n",
      "-----\n",
      "I am now predending that the given data are the values of the *derivatives*\n",
      "Error of ln(x): 101.4586976752\n",
      "-----\n",
      "Evaluating model cos(x) \n",
      "-----\n",
      "I am now predending that the given data are the values of the *derivatives*\n",
      "Error of cos(x): 57.7218424693\n"
     ]
    }
   ],
   "source": [
    "# create data\n",
    "t = np.linspace(0.1, 2, 100)\n",
    "v = np.sin(t) # pretend that our original data is a sine function\n",
    "\n",
    "# create evaluator that know the data\n",
    "e = ExampleEvaluator(t, v)\n",
    "\n",
    "# evaluate a concrete model candidate\n",
    "for fun in [\"x^2 + 2*x + 4\", \"sin(x)\", \"ln(x)\", \"cos(x)\"]:\n",
    "    print(\"Error of \" + fun + \": \" + str(e.evaluate(fun)))"
   ]
  }
 ],
 "metadata": {
  "kernelspec": {
   "display_name": "Python 3",
   "language": "python",
   "name": "python3"
  },
  "language_info": {
   "codemirror_mode": {
    "name": "ipython",
    "version": 3
   },
   "file_extension": ".py",
   "mimetype": "text/x-python",
   "name": "python",
   "nbconvert_exporter": "python",
   "pygments_lexer": "ipython3",
   "version": "3.7.7"
  }
 },
 "nbformat": 4,
 "nbformat_minor": 4
}
