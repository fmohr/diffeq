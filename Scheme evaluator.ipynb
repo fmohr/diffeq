{
 "cells": [
  {
   "cell_type": "code",
   "execution_count": 1,
   "metadata": {},
   "outputs": [],
   "source": [
    "import numpy as np\n",
    "import math "
   ]
  },
  {
   "cell_type": "code",
   "execution_count": 2,
   "metadata": {},
   "outputs": [],
   "source": [
    "class ODEEvaluator:\n",
    "    \n",
    "    # stores the data in the object\n",
    "    def __init__(self, times, vals):\n",
    "        if len(times) != len(vals):\n",
    "            raise ValueError(\"List of timestamps and list of values should have same length!\")\n",
    "        self.times = times\n",
    "        self.vals = vals\n",
    "        \n",
    "   "
   ]
  },
  {
   "cell_type": "code",
   "execution_count": 92,
   "metadata": {},
   "outputs": [],
   "source": [
    "# This is a CONCRETE evaluator (here just an example, but we need such sub-classes for concrete evaluation)\n",
    "from sympy import sympify\n",
    "from scipy.integrate import odeint\n",
    "from numpy import linalg\n",
    "class ExampleEvaluator(ODEEvaluator):\n",
    "    \n",
    "    def evaluate(self, model_str):\n",
    "        print(\"-----\\nEvaluating model\", model_str,\"\\n-----\")\n",
    "        print(\"I am now predending that the given data are the values of the *derivatives*\")\n",
    "       \n",
    "    # compute all *suppose* values under the model\n",
    "        model = eval(\"lambda x,t:\" + model_str)\n",
    "        T = odeint(model,self.vals[0],self.times)\n",
    "        T = T.transpose()\n",
    "        difference = T-self.vals\n",
    "        error = linalg.norm(difference,2)\n",
    "        return np.round(error, 10)\n",
    "    \n",
    "## TODO: Write now a real evaluator that makes sense in practice here: ##\n",
    "class OtherEvaluator(ODEEvaluator):\n",
    "    pass"
   ]
  },
  {
   "cell_type": "code",
   "execution_count": 96,
   "metadata": {
    "scrolled": true
   },
   "outputs": [
    {
     "name": "stdout",
     "output_type": "stream",
     "text": [
      "-----\n",
      "Evaluating model -0.5 * (x-15) \n",
      "-----\n",
      "I am now predending that the given data are the values of the *derivatives*\n",
      "Error of -0.5 * (x-15): 1.5471e-06\n",
      "-----\n",
      "Evaluating model np.sin(x) \n",
      "-----\n",
      "I am now predending that the given data are the values of the *derivatives*\n",
      "Error of np.sin(x): 233.8635704499\n",
      "-----\n",
      "Evaluating model (55)*np.sin(-0.5*x)+15 \n",
      "-----\n",
      "I am now predending that the given data are the values of the *derivatives*\n",
      "Error of (55)*np.sin(-0.5*x)+15: 250.055724564\n",
      "-----\n",
      "Evaluating model np.cos(x) \n",
      "-----\n",
      "I am now predending that the given data are the values of the *derivatives*\n",
      "Error of np.cos(x): 227.3200666738\n"
     ]
    }
   ],
   "source": [
    "# create data\n",
    "t = np.linspace(0, 20, 20)\n",
    "# Parameters\n",
    "T0 = 70\n",
    "k = -0.5\n",
    "Ta = 15\n",
    "v = (T0-Ta)*np.exp(k*t)+Ta\n",
    "\n",
    "# create evaluator that know the data\n",
    "e = ExampleEvaluator(t, v)\n",
    "\n",
    "# evaluate a concrete model candidate\n",
    "for fun in [\"-0.5 * (x-15)\", \"np.sin(x)\", \"(55)*np.sin(-0.5*x)+15\", \"np.cos(x)\"]:\n",
    "    print(\"Error of \" + fun + \": \" + str(e.evaluate(fun)))"
   ]
  },
  {
   "cell_type": "code",
   "execution_count": 55,
   "metadata": {},
   "outputs": [
    {
     "data": {
      "text/plain": [
       "70.0"
      ]
     },
     "execution_count": 55,
     "metadata": {},
     "output_type": "execute_result"
    }
   ],
   "source": [
    "v[0]"
   ]
  }
 ],
 "metadata": {
  "kernelspec": {
   "display_name": "Python 3",
   "language": "python",
   "name": "python3"
  },
  "language_info": {
   "codemirror_mode": {
    "name": "ipython",
    "version": 3
   },
   "file_extension": ".py",
   "mimetype": "text/x-python",
   "name": "python",
   "nbconvert_exporter": "python",
   "pygments_lexer": "ipython3",
   "version": "3.8.3"
  }
 },
 "nbformat": 4,
 "nbformat_minor": 4
}
