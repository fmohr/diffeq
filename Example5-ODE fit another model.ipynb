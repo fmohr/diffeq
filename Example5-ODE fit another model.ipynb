{
 "cells": [
  {
   "cell_type": "markdown",
   "metadata": {},
   "source": [
    "### Example\n",
    "To find model of form $\\dfrac{dy}{dy}=a+by$, however the real equation is $\\dfrac{dy}{dy}=y^2-4$ with $y(0)=-2$"
   ]
  },
  {
   "cell_type": "code",
   "execution_count": 1,
   "metadata": {},
   "outputs": [],
   "source": [
    "from lmfit import minimize, Parameters, Parameter, report_fit\n",
    "from scipy.integrate import odeint\n",
    "import numpy as np\n",
    "import matplotlib.pyplot as plt"
   ]
  },
  {
   "cell_type": "code",
   "execution_count": 2,
   "metadata": {},
   "outputs": [],
   "source": [
    "def f(xs, t, ps):\n",
    "    try:\n",
    "        a = ps['a'].value\n",
    "        b = ps['b'].value\n",
    "    except:\n",
    "        a, b = ps\n",
    "    x = xs\n",
    "\n",
    "    return a + b*x\n",
    "\n",
    "def g(t, x0, ps):\n",
    "    #Solution to the ODE x'(t) = f(t,x,k) with initial condition x(0) = x0\n",
    "    x = odeint(f, x0, t, args=(ps,))\n",
    "    return x\n",
    "\n",
    "def residual(ps, ts, data):\n",
    "    x0 = ps['x0'].value\n",
    "    model = g(ts, x0, ps)\n",
    "    return (model - data).ravel()"
   ]
  },
  {
   "cell_type": "code",
   "execution_count": 34,
   "metadata": {
    "scrolled": false
   },
   "outputs": [
    {
     "data": {
      "image/png": "[encoded data removed]",
      "text/plain": [
       "<Figure size 432x288 with 1 Axes>"
      ]
     },
     "metadata": {
      "needs_background": "light"
     },
     "output_type": "display_data"
    },
    {
     "name": "stdout",
     "output_type": "stream",
     "text": [
      "Error is:0.015189601266416315\n",
      "a initial:9.093848085471755\n",
      "b initial:-6.542034999278412\n",
      "[[Fit Statistics]]\n",
      "    # fitting method   = leastsq\n",
      "    # function evals   = 60\n",
      "    # data points      = 20\n",
      "    # variables        = 3\n",
      "    chi-square         = 0.01518960\n",
      "    reduced chi-square = 8.9351e-04\n",
      "    Akaike info crit   = -137.657530\n",
      "    Bayesian info crit = -134.670333\n",
      "[[Variables]]\n",
      "    x0:  0.12772055 +/- 0.02911176 (22.79%) (init = 0.1)\n",
      "    a:  -5.52349541 +/- 0.15381414 (2.78%) (init = 9.093848)\n",
      "    b:  -2.74920424 +/- 0.08036718 (2.92%) (init = -6.542035)\n",
      "[[Correlations]] (unreported correlations are < 0.100)\n",
      "    C(a, b)  =  0.992\n",
      "    C(x0, a) = -0.435\n",
      "    C(x0, b) = -0.423\n"
     ]
    }
   ],
   "source": [
    "def modelo(Y,t):\n",
    "    dYdt = Y**2-4\n",
    "    return dYdt\n",
    "Y0 = 0.1\n",
    "t = np.linspace(0,5,20)\n",
    "\n",
    "data = odeint(modelo,Y0,t)\n",
    "for i in range(100):\n",
    "    # set parameters incluing bounds\n",
    "    a0 = 100*(np.random.rand()-0.5)\n",
    "    b0 = 100*(np.random.rand()-0.5)\n",
    "    params = Parameters()\n",
    "    params.add('x0', value=float(data[0]), min=0, max=100)\n",
    "    params.add('a', value= a0, min=-20, max=20)\n",
    "    params.add('b', value= b0, min=-10, max=10)\n",
    "\n",
    "    # fit model and find predicted values\n",
    "    result = minimize(residual, params, args=(t, data), method='leastsq',max_nfev = 10000)\n",
    "    final = data + result.residual.reshape(data.shape)\n",
    "    \n",
    "    # find minimal error\n",
    "    if i == 0:\n",
    "        error = result.chisqr\n",
    "        a_initial = a0\n",
    "        b_initial = b0\n",
    "    else:\n",
    "        error = np.append(error,result.chisqr)\n",
    "        a_initial = np.append(a_initial,a0)\n",
    "        b_initial = np.append(b_initial,b0)\n",
    "position = np.argmin(error)\n",
    "a0 = a_initial[position]\n",
    "b0 = b_initial[position]\n",
    "\n",
    "# plot data and fitted curves\n",
    "# set parameters incluing bounds\n",
    "params = Parameters()\n",
    "params.add('x0', value=float(data[0]), min=0, max=100)\n",
    "params.add('a', value= a0, min=-20, max=20)\n",
    "params.add('b', value= b0, min=-10, max=10)\n",
    "\n",
    "# fit model and find predicted values\n",
    "result = minimize(residual, params, args=(t, data), method='leastsq',max_nfev = 10000)\n",
    "final = data + result.residual.reshape(data.shape)\n",
    "# best plot\n",
    "plt.plot(t, data, 'o')\n",
    "plt.plot(t, final, '--', linewidth=2, c='blue');\n",
    "plt.show()\n",
    "print(\"Error is:\" + str(result.chisqr))\n",
    "print(\"a initial:\" + str(a0))\n",
    "print(\"b initial:\" + str(b0))\n",
    "report_fit(result)"
   ]
  },
  {
   "cell_type": "markdown",
   "metadata": {},
   "source": [
    "#### Plot solution vs best numerical solution"
   ]
  },
  {
   "cell_type": "code",
   "execution_count": 28,
   "metadata": {},
   "outputs": [
    {
     "data": {
      "image/png": "[encoded data removed]",
      "text/plain": [
       "<Figure size 432x288 with 2 Axes>"
      ]
     },
     "metadata": {
      "needs_background": "light"
     },
     "output_type": "display_data"
    }
   ],
   "source": [
    "A = -5.52350246\n",
    "B = -2.74920796\n",
    "def answer(y,x):\n",
    "    dydx = A + B*y\n",
    "    return dydx\n",
    "def solution(x):\n",
    "    ys = 2*(1-(19/21)*np.exp(4*x))/(1+(19/21)*np.exp(4*x))\n",
    "    return ys\n",
    "\n",
    "y0 = 0.12772112\n",
    "x = np.linspace(0,5,20)\n",
    "\n",
    "y = odeint(answer,y0,x)\n",
    "ys = solution(x)\n",
    "\n",
    "fig, (ax1, ax2) = plt.subplots(1, 2)\n",
    "ax1.plot(x,ys)\n",
    "ax2.plot(x,y,'--r')\n",
    "ax1.set_title('Explicit solution')\n",
    "ax2.set_title('Numerical solution')\n",
    "plt.show()"
   ]
  },
  {
   "cell_type": "code",
   "execution_count": 30,
   "metadata": {},
   "outputs": [
    {
     "name": "stdout",
     "output_type": "stream",
     "text": [
      "0.16401532461786492\n"
     ]
    }
   ],
   "source": [
    "from numpy import linalg\n",
    "y=y.transpose()\n",
    "Diferencia = y - ys\n",
    "error = linalg.norm(Diferencia,2)\n",
    "print(error)"
   ]
  },
  {
   "cell_type": "markdown",
   "metadata": {},
   "source": [
    "On an interval biger than $[0,5]$"
   ]
  },
  {
   "cell_type": "code",
   "execution_count": 39,
   "metadata": {},
   "outputs": [
    {
     "data": {
      "image/png": "[encoded data removed]",
      "text/plain": [
       "<Figure size 432x288 with 2 Axes>"
      ]
     },
     "metadata": {
      "needs_background": "light"
     },
     "output_type": "display_data"
    }
   ],
   "source": [
    "A = -5.52349793\n",
    "B = -2.74920558\n",
    "def answer(y,x):\n",
    "    dydx = A + B*y\n",
    "    return dydx\n",
    "def solution(x):\n",
    "    ys = 2*(1-(19/21)*np.exp(4*x))/(1+(19/21)*np.exp(4*x))\n",
    "    return ys\n",
    "\n",
    "y0 = 0.1\n",
    "x = np.linspace(0,50,100)\n",
    "\n",
    "y = odeint(answer,y0,x)\n",
    "ys = solution(x)\n",
    "\n",
    "fig, (ax1, ax2) = plt.subplots(1, 2)\n",
    "ax1.plot(x,ys)\n",
    "ax2.plot(x,y,'--r')\n",
    "ax1.set_title('Explicit solution')\n",
    "ax2.set_title('Numerical solution')\n",
    "plt.show()"
   ]
  },
  {
   "cell_type": "code",
   "execution_count": 40,
   "metadata": {},
   "outputs": [
    {
     "name": "stdout",
     "output_type": "stream",
     "text": [
      "0.1009134461261699\n"
     ]
    }
   ],
   "source": [
    "y=y.transpose()\n",
    "Diferencia = y - ys\n",
    "error = linalg.norm(Diferencia,2)\n",
    "print(error)"
   ]
  }
 ],
 "metadata": {
  "kernelspec": {
   "display_name": "Python 3",
   "language": "python",
   "name": "python3"
  },
  "language_info": {
   "codemirror_mode": {
    "name": "ipython",
    "version": 3
   },
   "file_extension": ".py",
   "mimetype": "text/x-python",
   "name": "python",
   "nbconvert_exporter": "python",
   "pygments_lexer": "ipython3",
   "version": "3.8.3"
  }
 },
 "nbformat": 4,
 "nbformat_minor": 4
}
